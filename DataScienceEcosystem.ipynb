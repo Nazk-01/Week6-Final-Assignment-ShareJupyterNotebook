{
 "cells": [
  {
   "cell_type": "markdown",
   "id": "0c4c72e8-e334-4ead-8fe6-a3ecd19d5d96",
   "metadata": {},
   "source": [
    "# Data Science Tools and Ecosystem"
   ]
  },
  {
   "cell_type": "markdown",
   "id": "a630d1f7-b429-4cae-a0d1-4b53f9527959",
   "metadata": {},
   "source": [
    "In this notebook, Data Science Tools and Ecosystem are summarized."
   ]
  },
  {
   "cell_type": "markdown",
   "id": "33b049db-6495-401d-9d5c-1478133a6384",
   "metadata": {},
   "source": [
    "**Objectives:**\n",
    "- List popular Data Science languages\n",
    "- List popular Data Science Libraries\n",
    "- List popular Data Science Tools\n",
    "- Create a few simple Python arithmetic expressions"
   ]
  },
  {
   "cell_type": "markdown",
   "id": "25008f7a-fd44-47b5-bae1-74cfe654020b",
   "metadata": {},
   "source": [
    "**Objectives:**\n",
    "- List popular Data Science languages\n",
    "- List popular Data Science Libraries\n",
    "- List popular Data Science Tools\n",
    "- Create a few simple Python arithmetic expressions"
   ]
  },
  {
   "cell_type": "markdown",
   "id": "1885d745-1d19-463d-bfa2-26cb14933e71",
   "metadata": {},
   "source": [
    "Some of the popular languages that Data Scientists use are:\n",
    "1. Python\n",
    "2. R\n",
    "3. C++\n",
    "4. Java\n",
    "5. SQL\n",
    "6. Julia\n",
    "7. Scala"
   ]
  },
  {
   "cell_type": "markdown",
   "id": "370070c9-d632-4f2c-bc77-744444a225f3",
   "metadata": {},
   "source": [
    "Some of the commonly used libraries used by Data Scientists include:\n",
    "1. NumPy\n",
    "2. Pandas\n",
    "3. Scikit-learn\n",
    "4. Matplotlib\n",
    "5. Seaborn"
   ]
  },
  {
   "cell_type": "markdown",
   "id": "e513d3ee-9a8e-4706-84b5-a88d25bca9fc",
   "metadata": {},
   "source": [
    "| Data Science Tools |\n",
    "|--------------------|\n",
    "| Hadoop |\n",
    "| Apache AirFlow |\n",
    "| IBM AI Fairness 360 |"
   ]
  },
  {
   "cell_type": "markdown",
   "id": "d4fd523b-f7c3-46bc-8701-ac06959f2c84",
   "metadata": {},
   "source": [
    "### Below are a few examples of evaluating aritmetic expressions in Python"
   ]
  },
  {
   "cell_type": "code",
   "execution_count": 11,
   "id": "5db301d8-d1b5-4aee-b347-3d010327d6dc",
   "metadata": {},
   "outputs": [
    {
     "name": "stdout",
     "output_type": "stream",
     "text": [
      "17\n"
     ]
    }
   ],
   "source": [
    "# This is a simple arithmetic expression to multiply then add integers\n",
    "x = 3\n",
    "y = 4\n",
    "z = 5\n",
    "result = (x * y) + z\n",
    "print(result)"
   ]
  },
  {
   "cell_type": "code",
   "execution_count": 10,
   "id": "d3d23b24-1061-4a60-96b3-b6ef106041bd",
   "metadata": {},
   "outputs": [
    {
     "name": "stdout",
     "output_type": "stream",
     "text": [
      "3.3333333333333335\n"
     ]
    }
   ],
   "source": [
    "# This will convert 200 minutes to hours by dividing by 60\n",
    "minutes = 200\n",
    "hourInMins = 60\n",
    "result = minutes / hourInMins\n",
    "print(result)"
   ]
  },
  {
   "cell_type": "markdown",
   "id": "6cf946ef-d589-40da-99a7-a14ade5e79db",
   "metadata": {},
   "source": [
    "## Author\n",
    "Nazeeh K."
   ]
  },
  {
   "cell_type": "code",
   "execution_count": null,
   "id": "3f751420-a650-417e-9a0e-3bd97c5ad9a6",
   "metadata": {},
   "outputs": [],
   "source": []
  }
 ],
 "metadata": {
  "kernelspec": {
   "display_name": "Python 3 (ipykernel)",
   "language": "python",
   "name": "python3"
  },
  "language_info": {
   "codemirror_mode": {
    "name": "ipython",
    "version": 3
   },
   "file_extension": ".py",
   "mimetype": "text/x-python",
   "name": "python",
   "nbconvert_exporter": "python",
   "pygments_lexer": "ipython3",
   "version": "3.11.7"
  }
 },
 "nbformat": 4,
 "nbformat_minor": 5
}
